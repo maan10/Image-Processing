{
 "cells": [
  {
   "cell_type": "code",
   "execution_count": 2,
   "id": "26abed0b",
   "metadata": {},
   "outputs": [],
   "source": [
    "import numpy as np\n",
    "import cv2 as cv\n",
    "from skimage import data"
   ]
  },
  {
   "cell_type": "code",
   "execution_count": 6,
   "id": "019be9b7",
   "metadata": {},
   "outputs": [],
   "source": [
    "img=cv.imread(r\"D:\\output image\\tiger.jpg\")\n",
    "cv.imshow(\"original\",img)\n",
    "gray=cv.cvtColor(img,cv.COLOR_BGR2GRAY)\n",
    "\n",
    "img_gaussion=cv.GaussianBlur(gray,(3,3),0)\n",
    "kernelx=np.array([[1,1,1],[0,0,0],[-1,-1,-1]])\n",
    "kernely=np.array([[-1,0,1],[-1,0,1],[-1,0,1]])\n",
    "\n",
    "img_prewitx=cv.filter2D(img_gaussion,-1,kernelx)\n",
    "img_prewity=cv.filter2D(img_gaussion,-1,kernely)\n",
    "cv.imshow(\"prewitx \",img_prewitx)\n",
    "cv.imshow(\"prewity\",img_prewity)\n",
    "cv.imshow(\"prewit\",img_prewitx +img_prewity)\n",
    "cv.imshow(\"GaussianBlur\",img_gaussion)\n",
    "cv.waitKey(0)\n",
    "cv.destroyAllWindows()"
   ]
  },
  {
   "cell_type": "code",
   "execution_count": null,
   "id": "ca776cad",
   "metadata": {},
   "outputs": [],
   "source": []
  },
  {
   "cell_type": "code",
   "execution_count": null,
   "id": "38635105",
   "metadata": {},
   "outputs": [],
   "source": []
  }
 ],
 "metadata": {
  "kernelspec": {
   "display_name": "Python 3",
   "language": "python",
   "name": "python3"
  },
  "language_info": {
   "codemirror_mode": {
    "name": "ipython",
    "version": 3
   },
   "file_extension": ".py",
   "mimetype": "text/x-python",
   "name": "python",
   "nbconvert_exporter": "python",
   "pygments_lexer": "ipython3",
   "version": "3.8.8"
  }
 },
 "nbformat": 4,
 "nbformat_minor": 5
}

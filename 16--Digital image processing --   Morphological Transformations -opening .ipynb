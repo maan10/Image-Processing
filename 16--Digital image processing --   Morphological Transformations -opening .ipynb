{
 "cells": [
  {
   "cell_type": "markdown",
   "id": "b8af1c0f",
   "metadata": {},
   "source": [
    "Opening is just another name of erosion followed by dilation. It is useful in removing noise.\n",
    "\n",
    "function: cv2.morphologyEx()"
   ]
  },
  {
   "cell_type": "code",
   "execution_count": 1,
   "id": "c24aa1d5",
   "metadata": {},
   "outputs": [],
   "source": [
    "from skimage import data\n",
    "import cv2 as cv\n",
    "import numpy as np"
   ]
  },
  {
   "cell_type": "code",
   "execution_count": 9,
   "id": "fd98c1f4",
   "metadata": {},
   "outputs": [],
   "source": [
    "img=cv.imread(r\"D:\\output image\\moon.jfif\")\n",
    "kernel=np.ones((5,5), np.uint8)\n",
    "opening=cv.morphologyEx(img,cv.MORPH_OPEN, kernel)\n",
    "cv.imshow(\"image\",img)\n",
    "cv.imshow(\"Opening Tech\",opening)\n",
    "cv.waitKey()\n",
    "cv.destroyAllWindows()"
   ]
  },
  {
   "cell_type": "code",
   "execution_count": null,
   "id": "850326ea",
   "metadata": {},
   "outputs": [],
   "source": []
  }
 ],
 "metadata": {
  "kernelspec": {
   "display_name": "Python 3",
   "language": "python",
   "name": "python3"
  },
  "language_info": {
   "codemirror_mode": {
    "name": "ipython",
    "version": 3
   },
   "file_extension": ".py",
   "mimetype": "text/x-python",
   "name": "python",
   "nbconvert_exporter": "python",
   "pygments_lexer": "ipython3",
   "version": "3.8.8"
  }
 },
 "nbformat": 4,
 "nbformat_minor": 5
}

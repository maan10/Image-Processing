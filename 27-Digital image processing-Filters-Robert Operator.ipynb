{
 "cells": [
  {
   "cell_type": "code",
   "execution_count": 9,
   "id": "6955aad7",
   "metadata": {},
   "outputs": [],
   "source": [
    "import sys\n",
    "import numpy as np\n",
    "from scipy import ndimage\n",
    "import cv2 as cv"
   ]
  },
  {
   "cell_type": "code",
   "execution_count": 12,
   "id": "10170a25",
   "metadata": {},
   "outputs": [],
   "source": [
    "roberto_cross_v=np.array([[0,0,0],[0,1,0],[0,0,-1]])\n",
    "\n",
    "roberto_cross_h= np.array([[0,0,0],[0,0,1],[0,-1,0]])\n",
    "\n",
    "img_rgb=cv.imread(r\"D:\\output image\\tiger.jpg\",)      #rgb image\n",
    "img=cv.imread(r\"D:\\output image\\tiger.jpg\",0)\n",
    "cv.imshow(\"gray image\",img)\n",
    "cv.imshow(\"Rgb image \", img_rgb)\n",
    "\n",
    "image=np.asarray(img, dtype=\"int32\")\n",
    "\n",
    "vertical=ndimage.convolve(image,roberto_cross_h)\n",
    "horizantal=ndimage.convolve(image, roberto_cross_v)\n",
    "\n",
    "output_image=np.sqrt(np.square(horizantal) + np.square(horizantal))\n",
    "output_image=np.asarray(np.clip(output_image,0,255), dtype=\"uint8\")\n",
    "\n",
    "cv.imshow(\"Robert \", output_image)\n",
    "\n",
    "cv.waitKey(0)\n",
    "cv.destroyAllWindows()\n"
   ]
  },
  {
   "cell_type": "code",
   "execution_count": null,
   "id": "01801f2a",
   "metadata": {},
   "outputs": [],
   "source": []
  }
 ],
 "metadata": {
  "kernelspec": {
   "display_name": "Python 3",
   "language": "python",
   "name": "python3"
  },
  "language_info": {
   "codemirror_mode": {
    "name": "ipython",
    "version": 3
   },
   "file_extension": ".py",
   "mimetype": "text/x-python",
   "name": "python",
   "nbconvert_exporter": "python",
   "pygments_lexer": "ipython3",
   "version": "3.8.8"
  }
 },
 "nbformat": 4,
 "nbformat_minor": 5
}

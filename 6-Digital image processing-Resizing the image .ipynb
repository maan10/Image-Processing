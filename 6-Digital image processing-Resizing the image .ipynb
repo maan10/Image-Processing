{
 "cells": [
  {
   "cell_type": "code",
   "execution_count": null,
   "id": "c5f47bd9",
   "metadata": {},
   "outputs": [],
   "source": [
    "from skimage import data\n",
    "import cv2 as cv\n",
    "\n",
    "image=data.astronaut()\n",
    "cv.imshow(\"Image\",image)\n",
    "(Heigth,width,channel)=image.shape\n",
    "\n",
    "\n",
    "\n",
    "res1=cv.resize(image,(width*2,Heigth*2), interpolation=cv.INTER_CUBIC)\n",
    "res2=cv.resize(image,(width*2,Heigth*2), interpolation=cv.INTER_LINEAR)    #seem contrast differences\n",
    "\n",
    "\"\"\"\n",
    "open cv provide 5 type of  Interpolation.\n",
    "linear\n",
    "cubic\n",
    "area\n",
    "nearest neighbor  \n",
    "sinal saucider \n",
    "\n",
    "https://www.youtube.com/watch?v=P5TfA5Y9jbo    <--------------Interpolation link \n",
    "\"\"\"\n",
    "\n",
    "\n",
    "#now working on scaling \n",
    "res1=cv.resize(image,(width+200,Heigth-200), interpolation=cv.INTER_CUBIC)\n",
    "res2=cv.resize(image,(width//2,Heigth//2), interpolation=cv.INTER_AREA)\n",
    "#res3=cv.resize(image,(width*2,Height))\n",
    "cv.imshow(\"Scaling Inter cubic \",res1)\n",
    "cv.imshow(\"Scaling Inter Area \",res2)\n",
    "#cv.imshow(\"Scaling linear resize \",res3)\n",
    "cv.waitKey()\n",
    "cv.destroyAllWindows()\n"
   ]
  },
  {
   "cell_type": "code",
   "execution_count": null,
   "id": "f05f9d3e",
   "metadata": {},
   "outputs": [],
   "source": []
  }
 ],
 "metadata": {
  "kernelspec": {
   "display_name": "Python 3",
   "language": "python",
   "name": "python3"
  },
  "language_info": {
   "codemirror_mode": {
    "name": "ipython",
    "version": 3
   },
   "file_extension": ".py",
   "mimetype": "text/x-python",
   "name": "python",
   "nbconvert_exporter": "python",
   "pygments_lexer": "ipython3",
   "version": "3.8.8"
  }
 },
 "nbformat": 4,
 "nbformat_minor": 5
}

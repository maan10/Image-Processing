{
 "cells": [
  {
   "cell_type": "code",
   "execution_count": 1,
   "id": "8bf1c8ee",
   "metadata": {},
   "outputs": [],
   "source": [
    "import cv2 as cv\n",
    "import numpy as np"
   ]
  },
  {
   "cell_type": "code",
   "execution_count": 2,
   "id": "1ff4395f",
   "metadata": {},
   "outputs": [],
   "source": [
    "img_rgb=cv.imread(r\"D:\\output image\\Skin Cancer Image 1.png\")\n",
    "img_gray=cv.cvtColor(img_rgb,cv.COLOR_BGR2GRAY)\n",
    "# tempplate=cv.imread(r\"D:\\output image\\template image.png\",0)\n",
    "tempplate=cv.imread(r\"D:\\output image\\circle.png\",0)\n",
    "w,h=tempplate.shape[::-1]\n",
    "\n",
    "res=cv.matchTemplate(img_gray,tempplate, cv.TM_CCOEFF_NORMED)\n",
    "threshold= 0.8\n",
    "loc=np.where(res>= threshold)\n",
    "\n",
    "for pt in zip(*loc[::1]):\n",
    "    cv.rectangle(img_rgb,pt,(pt[0]+w,pt[1]+h),(0,0,255),2)\n",
    "\n",
    "cv.imshow(\"object\",img_rgb)\n",
    "cv.imwrite(r\"D:\\output image\\Template Matching with Multiple Objects.png\",img_rgb)\n",
    "cv.waitKey(0)\n",
    "cv.destroyAllWindows()"
   ]
  },
  {
   "cell_type": "code",
   "execution_count": null,
   "id": "10ff37c7",
   "metadata": {},
   "outputs": [],
   "source": []
  }
 ],
 "metadata": {
  "kernelspec": {
   "display_name": "Python 3",
   "language": "python",
   "name": "python3"
  },
  "language_info": {
   "codemirror_mode": {
    "name": "ipython",
    "version": 3
   },
   "file_extension": ".py",
   "mimetype": "text/x-python",
   "name": "python",
   "nbconvert_exporter": "python",
   "pygments_lexer": "ipython3",
   "version": "3.8.8"
  }
 },
 "nbformat": 4,
 "nbformat_minor": 5
}

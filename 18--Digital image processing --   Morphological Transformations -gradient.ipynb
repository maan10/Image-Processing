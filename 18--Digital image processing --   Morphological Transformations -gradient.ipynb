{
 "cells": [
  {
   "cell_type": "markdown",
   "id": "459d639b",
   "metadata": {},
   "source": [
    "Morphological Gradient : It is the difference between dilation and erosion of an image.\n",
    "The result will look like the outline of the object.\n"
   ]
  },
  {
   "cell_type": "code",
   "execution_count": 2,
   "id": "13b90ff5",
   "metadata": {},
   "outputs": [],
   "source": [
    "from skimage import data\n",
    "import cv2 as cv\n",
    "import numpy as np"
   ]
  },
  {
   "cell_type": "code",
   "execution_count": 5,
   "id": "4c7ee59f",
   "metadata": {},
   "outputs": [],
   "source": [
    "img=cv.imread(r\"D:\\output image\\panda.jpg\")\n",
    "kernel=np.ones((5,5), np.uint8)\n",
    "Gradient=cv.morphologyEx(img,cv.MORPH_GRADIENT, kernel)\n",
    "\n",
    "\n",
    "#compare with opening technique\n",
    "cv.imshow(\"image\",img)\n",
    "cv.imshow(\"ClosingTech\",Gradient)\n",
    "\n",
    "\n",
    "cv.waitKey()\n",
    "cv.destroyAllWindows()"
   ]
  },
  {
   "cell_type": "code",
   "execution_count": null,
   "id": "49c70f8b",
   "metadata": {},
   "outputs": [],
   "source": []
  }
 ],
 "metadata": {
  "kernelspec": {
   "display_name": "Python 3",
   "language": "python",
   "name": "python3"
  },
  "language_info": {
   "codemirror_mode": {
    "name": "ipython",
    "version": 3
   },
   "file_extension": ".py",
   "mimetype": "text/x-python",
   "name": "python",
   "nbconvert_exporter": "python",
   "pygments_lexer": "ipython3",
   "version": "3.8.8"
  }
 },
 "nbformat": 4,
 "nbformat_minor": 5
}

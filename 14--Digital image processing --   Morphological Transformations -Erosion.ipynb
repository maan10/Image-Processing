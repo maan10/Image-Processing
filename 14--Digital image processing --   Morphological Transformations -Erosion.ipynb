{
 "cells": [
  {
   "cell_type": "markdown",
   "id": "6c26d68c",
   "metadata": {},
   "source": [
    " Morphological transformations are some simple operations based on the image shape.normally performed on binary images. It needs two inputs, one is our original image, second one is called structuring.element or kernel which decides the nature of operation. Two basic morphological operators are Erosion and Dilation. Then its variant forms like Opening, Closing, Gradient etc also comes into play"
   ]
  },
  {
   "cell_type": "markdown",
   "id": "4be89c07",
   "metadata": {},
   "source": [
    "Erosion : \n",
    "        The basic idea of erosion is just like soil erosion only, it erodes away the boundaries of foreground object (Always try to keep foreground in white).\n",
    "So what it does? The kernel slides through the image (as in 2D convolution). a pixel in the original image (either 1 or 0) will be considered 1 only if all the pixels under the kernel is 1, otherwise it is eroded (made to zero)."
   ]
  },
  {
   "cell_type": "code",
   "execution_count": 2,
   "id": "817a03ef",
   "metadata": {},
   "outputs": [],
   "source": [
    "from skimage import data\n",
    "import cv2 as cv\n",
    "import numpy as np"
   ]
  },
  {
   "cell_type": "code",
   "execution_count": 18,
   "id": "e4693f1c",
   "metadata": {},
   "outputs": [],
   "source": [
    "img=cv.imread(r\"D:\\output image\\panda.jpg\")\n",
    "kermel=np.ones((5,5), np.uint8)\n",
    "\n",
    "ero=cv.erode(img,kermel,iterations=2)         \n",
    "cv.imwrite(r\"D:\\output image\\panda Erosion.jpg\",ero)\n",
    "cv.imshow(\"ero\",ero)\n",
    "cv.imshow(\"image\",img)\n",
    "cv.waitKey()\n",
    "cv.destroyAllWindows()"
   ]
  },
  {
   "cell_type": "code",
   "execution_count": null,
   "id": "81675ff9",
   "metadata": {},
   "outputs": [],
   "source": []
  }
 ],
 "metadata": {
  "kernelspec": {
   "display_name": "Python 3",
   "language": "python",
   "name": "python3"
  },
  "language_info": {
   "codemirror_mode": {
    "name": "ipython",
    "version": 3
   },
   "file_extension": ".py",
   "mimetype": "text/x-python",
   "name": "python",
   "nbconvert_exporter": "python",
   "pygments_lexer": "ipython3",
   "version": "3.8.8"
  }
 },
 "nbformat": 4,
 "nbformat_minor": 5
}

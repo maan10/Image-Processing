{
 "cells": [
  {
   "cell_type": "code",
   "execution_count": 1,
   "id": "6ca11516",
   "metadata": {},
   "outputs": [],
   "source": [
    "from skimage import data\n",
    "import cv2 as cv\n",
    "import numpy as np"
   ]
  },
  {
   "cell_type": "code",
   "execution_count": 15,
   "id": "1a265dfe",
   "metadata": {},
   "outputs": [],
   "source": [
    "image=data.astronaut()\n",
    "blur=cv.blur(image,(10,10))\n",
    "\n",
    "cv.imshow(\"Real image\",image)\n",
    "cv.imshow(\"blur image\",blur)\n",
    "\n",
    "cv.waitKey()\n",
    "cv.destroyAllWindows()"
   ]
  },
  {
   "cell_type": "code",
   "execution_count": null,
   "id": "63300339",
   "metadata": {},
   "outputs": [],
   "source": []
  }
 ],
 "metadata": {
  "kernelspec": {
   "display_name": "Python 3",
   "language": "python",
   "name": "python3"
  },
  "language_info": {
   "codemirror_mode": {
    "name": "ipython",
    "version": 3
   },
   "file_extension": ".py",
   "mimetype": "text/x-python",
   "name": "python",
   "nbconvert_exporter": "python",
   "pygments_lexer": "ipython3",
   "version": "3.8.8"
  }
 },
 "nbformat": 4,
 "nbformat_minor": 5
}

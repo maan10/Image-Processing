{
 "cells": [
  {
   "cell_type": "code",
   "execution_count": 2,
   "id": "b3bf13d5",
   "metadata": {},
   "outputs": [],
   "source": [
    "from skimage import data\n",
    "import cv2 as cv\n",
    "import numpy as np"
   ]
  },
  {
   "cell_type": "raw",
   "id": "5f587efd",
   "metadata": {},
   "source": [
    "Translation basically means that we are shifting the image by adding/subtracting the x and y coordinates. In order to do this, we need to create a transformation matrix M, as follows : M =\n",
    "[[1 0 tx]\n",
    "[0 1 ty]]\n",
    "Here, the t x and t y values are the x and y translation values ; that is, the image will be moved by x units to the right, and by y units downwards.. So once we create a matrix like this, we can use the function, cv2.warpAffine(), to apply it to our image. The third argument in cv2.warpAffine() refers to the size of output image."
   ]
  },
  {
   "cell_type": "code",
   "execution_count": 7,
   "id": "46591ddf",
   "metadata": {},
   "outputs": [],
   "source": [
    "image=data.coins()\n",
    "matrix=np.float32([            \n",
    "    [1,0,100],\n",
    "    [0,1,200]])    #matrix with te help of numpy \n",
    " \n",
    "tran=cv.warpAffine(image,matrix,(1000,500))          #(image name, matrix ,image heighth and width)\n",
    "cv.imshow(\"translation image \",tran)\n",
    "cv.waitKey()\n",
    "cv.destroyAllWindows()"
   ]
  },
  {
   "cell_type": "code",
   "execution_count": null,
   "id": "e3bd9ab1",
   "metadata": {},
   "outputs": [],
   "source": []
  }
 ],
 "metadata": {
  "kernelspec": {
   "display_name": "Python 3",
   "language": "python",
   "name": "python3"
  },
  "language_info": {
   "codemirror_mode": {
    "name": "ipython",
    "version": 3
   },
   "file_extension": ".py",
   "mimetype": "text/x-python",
   "name": "python",
   "nbconvert_exporter": "python",
   "pygments_lexer": "ipython3",
   "version": "3.8.8"
  }
 },
 "nbformat": 4,
 "nbformat_minor": 5
}

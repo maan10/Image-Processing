{
 "cells": [
  {
   "cell_type": "markdown",
   "id": "245e5d48",
   "metadata": {},
   "source": [
    "edge detection algorithms include Sobel, Canny, Prewitt, Roberts, and fuzzy logic methods.\n"
   ]
  },
  {
   "cell_type": "code",
   "execution_count": 1,
   "id": "6280adbe",
   "metadata": {},
   "outputs": [],
   "source": [
    "from skimage import data\n",
    "import cv2 as cv\n",
    "import numpy as np"
   ]
  },
  {
   "cell_type": "code",
   "execution_count": 13,
   "id": "35a89e2c",
   "metadata": {},
   "outputs": [],
   "source": [
    "#img=cv.imread(r\"D:\\output image\\panda.jpg\")\n",
    "img=data.camera()\n",
    "edge=cv.Laplacian(img,cv.CV_64F)\n",
    "cv.imshow(\"image\",img)\n",
    "cv.imshow(\"Laplacian\",edge)\n",
    "\n",
    "cv.waitKey()\n",
    "cv.destroyAllWindows()\n"
   ]
  },
  {
   "cell_type": "code",
   "execution_count": null,
   "id": "c546a665",
   "metadata": {},
   "outputs": [],
   "source": []
  }
 ],
 "metadata": {
  "kernelspec": {
   "display_name": "Python 3",
   "language": "python",
   "name": "python3"
  },
  "language_info": {
   "codemirror_mode": {
    "name": "ipython",
    "version": 3
   },
   "file_extension": ".py",
   "mimetype": "text/x-python",
   "name": "python",
   "nbconvert_exporter": "python",
   "pygments_lexer": "ipython3",
   "version": "3.8.8"
  }
 },
 "nbformat": 4,
 "nbformat_minor": 5
}

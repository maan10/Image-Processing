{
 "cells": [
  {
   "cell_type": "code",
   "execution_count": 6,
   "id": "76eaa9e8",
   "metadata": {},
   "outputs": [],
   "source": [
    "from skimage import data\n",
    "import cv2 as cv\n",
    "import numpy as np"
   ]
  },
  {
   "cell_type": "code",
   "execution_count": null,
   "id": "a92b2574",
   "metadata": {},
   "outputs": [],
   "source": []
  },
  {
   "cell_type": "code",
   "execution_count": 26,
   "id": "1b6d18b6",
   "metadata": {},
   "outputs": [
    {
     "name": "stdout",
     "output_type": "stream",
     "text": [
      "[[0.14285715 0.14285715 0.14285715]\n",
      " [0.14285715 0.14285715 0.14285715]\n",
      " [0.14285715 0.14285715 0.14285715]]\n"
     ]
    }
   ],
   "source": [
    "img=data.chelsea()\n",
    "kernel=np.ones((3,3), np.float32)/7\n",
    "#kernel=np.zeros((3,3),np.float32)   # all black\n",
    "\n",
    "print(kernel)\n",
    "\n",
    "filter=cv.filter2D(img,-1,kernel)\n",
    "cv.imshow(\"Image\",img)\n",
    "cv.imshow(\"Filtered image\",filter)\n",
    "cv.waitKey()\n",
    "cv.destroyAllWindows()"
   ]
  },
  {
   "cell_type": "code",
   "execution_count": null,
   "id": "0dbcb750",
   "metadata": {},
   "outputs": [],
   "source": []
  }
 ],
 "metadata": {
  "kernelspec": {
   "display_name": "Python 3",
   "language": "python",
   "name": "python3"
  },
  "language_info": {
   "codemirror_mode": {
    "name": "ipython",
    "version": 3
   },
   "file_extension": ".py",
   "mimetype": "text/x-python",
   "name": "python",
   "nbconvert_exporter": "python",
   "pygments_lexer": "ipython3",
   "version": "3.8.8"
  }
 },
 "nbformat": 4,
 "nbformat_minor": 5
}

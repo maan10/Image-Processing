{
 "cells": [
  {
   "cell_type": "markdown",
   "id": "b49f2a76",
   "metadata": {},
   "source": [
    "Closing is reverse of Opening, Dilation followed by Erosion. It is useful in closing small holes inside the foreground objects, or small black points on the object.\n"
   ]
  },
  {
   "cell_type": "code",
   "execution_count": 2,
   "id": "66e20156",
   "metadata": {},
   "outputs": [],
   "source": [
    "from skimage import data\n",
    "import cv2 as cv\n",
    "import numpy as np"
   ]
  },
  {
   "cell_type": "code",
   "execution_count": 3,
   "id": "204b704b",
   "metadata": {},
   "outputs": [],
   "source": [
    "img=cv.imread(r\"D:\\output image\\moon.jfif\")\n",
    "kernel=np.ones((5,5), np.uint8)\n",
    "Closing=cv.morphologyEx(img,cv.MORPH_CLOSE, kernel)\n",
    "opening=cv.morphologyEx(img,cv.MORPH_OPEN, kernel)\n",
    "\n",
    "\n",
    "#compare with opening technique\n",
    "cv.imshow(\"image\",img)\n",
    "cv.imshow(\"ClosingTech\",Closing)\n",
    "cv.imshow(\"OpeningTech\",opening)\n",
    "\n",
    "cv.waitKey()\n",
    "cv.destroyAllWindows()"
   ]
  },
  {
   "cell_type": "code",
   "execution_count": null,
   "id": "674a0dac",
   "metadata": {},
   "outputs": [],
   "source": []
  }
 ],
 "metadata": {
  "kernelspec": {
   "display_name": "Python 3",
   "language": "python",
   "name": "python3"
  },
  "language_info": {
   "codemirror_mode": {
    "name": "ipython",
    "version": 3
   },
   "file_extension": ".py",
   "mimetype": "text/x-python",
   "name": "python",
   "nbconvert_exporter": "python",
   "pygments_lexer": "ipython3",
   "version": "3.8.8"
  }
 },
 "nbformat": 4,
 "nbformat_minor": 5
}

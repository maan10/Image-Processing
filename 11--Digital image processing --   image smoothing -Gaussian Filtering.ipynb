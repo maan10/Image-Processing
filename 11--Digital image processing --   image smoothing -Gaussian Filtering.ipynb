{
 "cells": [
  {
   "cell_type": "code",
   "execution_count": 1,
   "id": "408c52b4",
   "metadata": {},
   "outputs": [],
   "source": [
    "from skimage import data\n",
    "import cv2 as cv\n",
    "import numpy as np"
   ]
  },
  {
   "cell_type": "code",
   "execution_count": 19,
   "id": "cf01f372",
   "metadata": {},
   "outputs": [],
   "source": [
    "img=data.rocket()\n",
    "blur=cv.GaussianBlur(img,(9,1),0)\n",
    "\n",
    "cv.imshow(\"real img\",img)\n",
    "cv.imshow(\"blur\",blur)\n",
    "cv.waitKey()\n",
    "cv.destroyAllWindows()"
   ]
  },
  {
   "cell_type": "code",
   "execution_count": null,
   "id": "dbde573e",
   "metadata": {},
   "outputs": [],
   "source": []
  }
 ],
 "metadata": {
  "kernelspec": {
   "display_name": "Python 3",
   "language": "python",
   "name": "python3"
  },
  "language_info": {
   "codemirror_mode": {
    "name": "ipython",
    "version": 3
   },
   "file_extension": ".py",
   "mimetype": "text/x-python",
   "name": "python",
   "nbconvert_exporter": "python",
   "pygments_lexer": "ipython3",
   "version": "3.8.8"
  }
 },
 "nbformat": 4,
 "nbformat_minor": 5
}

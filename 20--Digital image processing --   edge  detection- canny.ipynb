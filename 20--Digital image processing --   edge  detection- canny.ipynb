{
 "cells": [
  {
   "cell_type": "code",
   "execution_count": 1,
   "id": "f43e3150",
   "metadata": {},
   "outputs": [],
   "source": [
    "from skimage import data\n",
    "import cv2 as cv\n",
    "import numpy as np"
   ]
  },
  {
   "cell_type": "code",
   "execution_count": 14,
   "id": "38475e17",
   "metadata": {},
   "outputs": [],
   "source": [
    "image=data.astronaut()\n",
    "gray_scale=cv.cvtColor(image,cv.COLOR_BGR2BGRA)\n",
    "canny=cv.Canny(gray_scale,50,240)\n",
    "cv.imshow(\"image\",gray_scale)\n",
    "cv.imshow(\"Canny\",canny)\n",
    "\n",
    "cv.waitKey()\n",
    "cv.destroyAllWindows()\n"
   ]
  }
 ],
 "metadata": {
  "kernelspec": {
   "display_name": "Python 3",
   "language": "python",
   "name": "python3"
  },
  "language_info": {
   "codemirror_mode": {
    "name": "ipython",
    "version": 3
   },
   "file_extension": ".py",
   "mimetype": "text/x-python",
   "name": "python",
   "nbconvert_exporter": "python",
   "pygments_lexer": "ipython3",
   "version": "3.8.8"
  }
 },
 "nbformat": 4,
 "nbformat_minor": 5
}

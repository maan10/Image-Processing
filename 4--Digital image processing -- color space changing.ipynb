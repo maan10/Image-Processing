{
 "cells": [
  {
   "cell_type": "code",
   "execution_count": 11,
   "id": "e20c6d89",
   "metadata": {},
   "outputs": [],
   "source": [
    "from skimage import data\n",
    "import cv2 as cv\n",
    "\n",
    "image=data.cat()\n",
    "\n",
    "'''\n",
    "we use the function cv2.cvtColor(input image, flag) where  flag deter- mines the type of conversion.\n",
    "For BGR =) Gray conversion we use the flags cv2.COLOR BGR2GRAY.\n",
    "For BGR=)RGB conversion we use the flags cv2.COLOR BGR2RGB.\n",
    "Similarly for BGR=)HSV, we use the flag cv2.COLOR BGR2HSV.\n",
    "'''\n",
    "\n",
    "gray=cv.cvtColor(image,cv.COLOR_BGR2BGRA)  \n",
    "hsv=cv.cvtColor(gray,cv.COLOR_BGR2HSV)\n",
    "RGB=cv.cvtColor(gray,cv.COLOR_BGR2RGB)\n",
    "cv.imshow(\"Cat \",image)\n",
    "cv.imshow(\"Image\",hsv)\n",
    "cv.imshow(\"RGB\",RGB)\n",
    "cv.waitKey()\n",
    "cv.destroyAllWindows()\n"
   ]
  },
  {
   "cell_type": "code",
   "execution_count": null,
   "id": "37fc4308",
   "metadata": {},
   "outputs": [],
   "source": []
  }
 ],
 "metadata": {
  "kernelspec": {
   "display_name": "Python 3",
   "language": "python",
   "name": "python3"
  },
  "language_info": {
   "codemirror_mode": {
    "name": "ipython",
    "version": 3
   },
   "file_extension": ".py",
   "mimetype": "text/x-python",
   "name": "python",
   "nbconvert_exporter": "python",
   "pygments_lexer": "ipython3",
   "version": "3.8.8"
  }
 },
 "nbformat": 4,
 "nbformat_minor": 5
}

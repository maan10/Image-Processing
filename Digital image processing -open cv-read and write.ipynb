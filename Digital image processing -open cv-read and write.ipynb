{
 "cells": [
  {
   "cell_type": "markdown",
   "id": "89223bd8",
   "metadata": {},
   "source": [
    "# Image read and write in open cv "
   ]
  },
  {
   "cell_type": "code",
   "execution_count": 21,
   "id": "efbee492",
   "metadata": {},
   "outputs": [],
   "source": [
    "import cv2 as cv \n",
    "image=cv.imread(r\"D:\\data-\\HAM10000_images_part_1\\ISIC_0024347.jpg\",1)\n",
    "image=cv.cvtColor(image,cv.COLOR_BGR2RGB)       #cvtcolor for changing the image color spaces\n",
    "cv.imshow(\"Image\", image)\n",
    "cv.imwrite(r\"D:\\output image\\color image.jpg\",image)      #(location,image), Also imwrite use for save the image. \n",
    "cv.waitKey()\n",
    "cv.destroyAllWindows()"
   ]
  },
  {
   "cell_type": "code",
   "execution_count": 27,
   "id": "8739aafb",
   "metadata": {},
   "outputs": [],
   "source": [
    "image_read=cv.imread(r\"D:\\data-\\HAM10000_images_part_1\\ISIC_0024347.jpg\")\n",
    "image_convert=cv.cvtColor(image_read,cv.COLOR_BGR2GRAY)\n",
    "cv.imshow(\"Gray image\",image_convert)\n",
    "cv.imwrite(r\"D:\\output image\\Gray image.jpg\",image_convert)\n",
    "cv.waitKey(0)\n",
    "cv.destroyAllWindows()"
   ]
  },
  {
   "cell_type": "code",
   "execution_count": null,
   "id": "53b18ef3",
   "metadata": {},
   "outputs": [],
   "source": []
  }
 ],
 "metadata": {
  "kernelspec": {
   "display_name": "Python 3",
   "language": "python",
   "name": "python3"
  },
  "language_info": {
   "codemirror_mode": {
    "name": "ipython",
    "version": 3
   },
   "file_extension": ".py",
   "mimetype": "text/x-python",
   "name": "python",
   "nbconvert_exporter": "python",
   "pygments_lexer": "ipython3",
   "version": "3.8.8"
  }
 },
 "nbformat": 4,
 "nbformat_minor": 5
}

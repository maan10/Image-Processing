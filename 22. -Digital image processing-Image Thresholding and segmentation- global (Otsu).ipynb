{
 "cells": [
  {
   "cell_type": "code",
   "execution_count": 2,
   "id": "92175b63",
   "metadata": {},
   "outputs": [],
   "source": [
    "from skimage import data\n",
    "import numpy as np\n",
    "import cv2 as cv\n",
    "import matplotlib.pyplot as plt"
   ]
  },
  {
   "cell_type": "code",
   "execution_count": 19,
   "id": "ace460d3",
   "metadata": {},
   "outputs": [],
   "source": [
    "#image=data.coins()\n",
    "#image=data.cell()\n",
    "\n",
    "image=cv.imread(r\"D:\\output image\\cat_rgb.jpg\",0)\n",
    "#otsu thresholding implement\n",
    "\n",
    "res1, thresholding=cv.threshold(image,0,255, cv.THRESH_BINARY + cv.THRESH_OTSU)\n",
    "cv.imshow(\"thresholding\", thresholding)\n",
    "cv.waitKey()\n",
    "cv.destroyAllWindows()"
   ]
  },
  {
   "cell_type": "code",
   "execution_count": null,
   "id": "895f012f",
   "metadata": {},
   "outputs": [],
   "source": []
  }
 ],
 "metadata": {
  "kernelspec": {
   "display_name": "Python 3",
   "language": "python",
   "name": "python3"
  },
  "language_info": {
   "codemirror_mode": {
    "name": "ipython",
    "version": 3
   },
   "file_extension": ".py",
   "mimetype": "text/x-python",
   "name": "python",
   "nbconvert_exporter": "python",
   "pygments_lexer": "ipython3",
   "version": "3.8.8"
  }
 },
 "nbformat": 4,
 "nbformat_minor": 5
}

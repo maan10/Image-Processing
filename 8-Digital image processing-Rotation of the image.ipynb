{
 "cells": [
  {
   "cell_type": "code",
   "execution_count": 1,
   "id": "a226c854",
   "metadata": {},
   "outputs": [],
   "source": [
    "from skimage import data\n",
    "import cv2 as cv\n",
    "import numpy as np"
   ]
  },
  {
   "cell_type": "markdown",
   "id": "b07b80c8",
   "metadata": {},
   "source": [
    "# Rotation :\n",
    "To rotate an image using OpenCV Python, frst, calculate the affne matrix that\n",
    "does the affne transformation (linear mapping of pixels), then warp the input\n",
    "image with the affne matrix.\n",
    "Using cv2.getRotationMatrix2D(), we can specify the center point around which\n",
    "the image would be rotated as the first argument, then the angle of rotation in\n",
    "degrees, and a scaling factor for the image at the end.\n",
    "Rotation is alsoa form of transformation, and we can achieve it by using the\n",
    "following transformation matrix : R =\n",
    "[\n",
    "cos(0) -sin(0)\n",
    "sin(0) cos0)\n",
    "]\n",
    "0 is the angle of rotation in the counterclockwise direction."
   ]
  },
  {
   "cell_type": "code",
   "execution_count": 31,
   "id": "68d0c43e",
   "metadata": {},
   "outputs": [],
   "source": [
    "image=data.cat()\n",
    "(height,width,channel)=image.shape\n",
    "\n",
    "roataion_matrix=cv.getRotationMatrix2D((width/2,height/2),180,1)\n",
    "rotation=cv.warpAffine(image,roataion_matrix,(400,500))\n",
    "cv.imshow(\"rotatio image\",rotation)\n",
    "cv.waitKey()\n",
    "cv.destroyAllWindows()\n",
    "\n"
   ]
  },
  {
   "cell_type": "code",
   "execution_count": null,
   "id": "494f8b7b",
   "metadata": {},
   "outputs": [],
   "source": []
  }
 ],
 "metadata": {
  "kernelspec": {
   "display_name": "Python 3",
   "language": "python",
   "name": "python3"
  },
  "language_info": {
   "codemirror_mode": {
    "name": "ipython",
    "version": 3
   },
   "file_extension": ".py",
   "mimetype": "text/x-python",
   "name": "python",
   "nbconvert_exporter": "python",
   "pygments_lexer": "ipython3",
   "version": "3.8.8"
  }
 },
 "nbformat": 4,
 "nbformat_minor": 5
}

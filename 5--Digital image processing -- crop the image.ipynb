{
 "cells": [
  {
   "cell_type": "markdown",
   "id": "5994f065",
   "metadata": {},
   "source": [
    "# # #Solution\n",
    "All we are doing is slicing arrays. We first supply the startY : endY coordinates, followed by the startX : endX coordinates to the slice. That's it. We've cropped the image."
   ]
  },
  {
   "cell_type": "code",
   "execution_count": 1,
   "id": "66d353af",
   "metadata": {},
   "outputs": [
    {
     "name": "stdout",
     "output_type": "stream",
     "text": [
      "(300, 451, 3)\n"
     ]
    }
   ],
   "source": [
    "from skimage import data\n",
    "import cv2 as cv\n",
    "import numpy as np\n",
    "image=data.cat()\n",
    "cv.imshow(\"cat\",image)\n",
    "\n",
    "print(image.shape)\n",
    "\n",
    "crop=image[50: 250, 100: 300]   # [ startY : endY, startX : endX ]\n",
    "\n",
    "cv.imshow(\"Cropping image\",crop)\n",
    "cv.waitKey()\n",
    "cv.destroyAllWindows()"
   ]
  },
  {
   "cell_type": "code",
   "execution_count": null,
   "id": "07d34114",
   "metadata": {},
   "outputs": [],
   "source": []
  }
 ],
 "metadata": {
  "kernelspec": {
   "display_name": "Python 3",
   "language": "python",
   "name": "python3"
  },
  "language_info": {
   "codemirror_mode": {
    "name": "ipython",
    "version": 3
   },
   "file_extension": ".py",
   "mimetype": "text/x-python",
   "name": "python",
   "nbconvert_exporter": "python",
   "pygments_lexer": "ipython3",
   "version": "3.8.8"
  }
 },
 "nbformat": 4,
 "nbformat_minor": 5
}

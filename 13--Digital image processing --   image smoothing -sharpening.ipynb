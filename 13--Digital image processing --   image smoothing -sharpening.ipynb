{
 "cells": [
  {
   "cell_type": "code",
   "execution_count": 1,
   "id": "3bacc534",
   "metadata": {},
   "outputs": [],
   "source": [
    "from skimage import data\n",
    "import cv2 as cv\n",
    "import numpy as np"
   ]
  },
  {
   "cell_type": "code",
   "execution_count": 42,
   "id": "25162727",
   "metadata": {},
   "outputs": [],
   "source": [
    "img=data.camera()\n",
    "kernel_sharpen=np.array([\n",
    " [-1,-1,-1],\n",
    " [-1,9,-1],\n",
    " [-1,-1,-1]\n",
    "])\n",
    "\n",
    "kernel_sharpen_level=np.array([\n",
    " [1,1,1],\n",
    " [1,-9,1],\n",
    " [1,1,1]\n",
    "])\n",
    "\n",
    "sharpen=cv.filter2D(img,-1,kernel_sharpen)\n",
    "sharpen_level=cv.filter2D(img,-1,kernel_sharpen_level)\n",
    "cv.imwrite(r\"D:\\output image\\black white.jpg\",sharpen_level)\n",
    "cv.imshow(\"image\",img)\n",
    "cv.imshow(\"sharpen_image\",sharpen)\n",
    "cv.imshow(\"sharpenimage_level\",sharpen_level)\n",
    "cv.waitKey()\n",
    "cv.destroyAllWindows()"
   ]
  },
  {
   "cell_type": "code",
   "execution_count": null,
   "id": "d866dc4b",
   "metadata": {},
   "outputs": [],
   "source": []
  }
 ],
 "metadata": {
  "kernelspec": {
   "display_name": "Python 3",
   "language": "python",
   "name": "python3"
  },
  "language_info": {
   "codemirror_mode": {
    "name": "ipython",
    "version": 3
   },
   "file_extension": ".py",
   "mimetype": "text/x-python",
   "name": "python",
   "nbconvert_exporter": "python",
   "pygments_lexer": "ipython3",
   "version": "3.8.8"
  }
 },
 "nbformat": 4,
 "nbformat_minor": 5
}
